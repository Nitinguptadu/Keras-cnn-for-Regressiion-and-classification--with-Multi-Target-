{
 "cells": [
  {
   "cell_type": "code",
   "execution_count": 1,
   "metadata": {},
   "outputs": [
    {
     "name": "stderr",
     "output_type": "stream",
     "text": [
      "Using TensorFlow backend.\n"
     ]
    }
   ],
   "source": [
    "import numpy as np\n",
    "import pandas as pd\n",
    "from keras.models import Sequential\n",
    "from keras.layers import Dense\n",
    "from keras.optimizers import rmsprop\n",
    "from keras.callbacks import EarlyStopping, ReduceLROnPlateau,ModelCheckpoint\n",
    "        "
   ]
  },
  {
   "cell_type": "markdown",
   "metadata": {},
   "source": [
    "# Loading Tranning Data "
   ]
  },
  {
   "cell_type": "code",
   "execution_count": 2,
   "metadata": {},
   "outputs": [],
   "source": [
    "data_data = pd.read_csv('/home/nitin/Desktop/keras-regression-master/database/train/train_100k.csv') #'../database/train/train_100k.csv'\n"
   ]
  },
  {
   "cell_type": "code",
   "execution_count": 3,
   "metadata": {},
   "outputs": [
    {
     "data": {
      "text/html": [
       "<div>\n",
       "<style scoped>\n",
       "    .dataframe tbody tr th:only-of-type {\n",
       "        vertical-align: middle;\n",
       "    }\n",
       "\n",
       "    .dataframe tbody tr th {\n",
       "        vertical-align: top;\n",
       "    }\n",
       "\n",
       "    .dataframe thead th {\n",
       "        text-align: right;\n",
       "    }\n",
       "</style>\n",
       "<table border=\"1\" class=\"dataframe\">\n",
       "  <thead>\n",
       "    <tr style=\"text-align: right;\">\n",
       "      <th></th>\n",
       "      <th>id</th>\n",
       "      <th>x0</th>\n",
       "      <th>y0</th>\n",
       "      <th>x1</th>\n",
       "      <th>y1</th>\n",
       "      <th>x2</th>\n",
       "      <th>y2</th>\n",
       "      <th>x3</th>\n",
       "      <th>y3</th>\n",
       "      <th>x4</th>\n",
       "      <th>...</th>\n",
       "      <th>x5</th>\n",
       "      <th>y5</th>\n",
       "      <th>x6</th>\n",
       "      <th>y6</th>\n",
       "      <th>x7</th>\n",
       "      <th>y7</th>\n",
       "      <th>x8</th>\n",
       "      <th>y8</th>\n",
       "      <th>x9</th>\n",
       "      <th>y9</th>\n",
       "    </tr>\n",
       "  </thead>\n",
       "  <tbody>\n",
       "    <tr>\n",
       "      <th>0</th>\n",
       "      <td>0</td>\n",
       "      <td>29.379006</td>\n",
       "      <td>-177.906597</td>\n",
       "      <td>66.239362</td>\n",
       "      <td>-143.49507</td>\n",
       "      <td>-107.178287</td>\n",
       "      <td>-338.177166</td>\n",
       "      <td>22.166375</td>\n",
       "      <td>-185.843612</td>\n",
       "      <td>84.694131</td>\n",
       "      <td>...</td>\n",
       "      <td>136.901770</td>\n",
       "      <td>-81.681363</td>\n",
       "      <td>-84.118333</td>\n",
       "      <td>-334.626033</td>\n",
       "      <td>-100.681489</td>\n",
       "      <td>-336.766765</td>\n",
       "      <td>-37.043301</td>\n",
       "      <td>-253.037134</td>\n",
       "      <td>0.695548</td>\n",
       "      <td>-211.044600</td>\n",
       "    </tr>\n",
       "    <tr>\n",
       "      <th>1</th>\n",
       "      <td>1</td>\n",
       "      <td>-42.192600</td>\n",
       "      <td>116.207765</td>\n",
       "      <td>81.428046</td>\n",
       "      <td>-94.91560</td>\n",
       "      <td>-68.070200</td>\n",
       "      <td>154.431135</td>\n",
       "      <td>87.454642</td>\n",
       "      <td>-119.361432</td>\n",
       "      <td>-86.614036</td>\n",
       "      <td>...</td>\n",
       "      <td>-40.894683</td>\n",
       "      <td>123.924804</td>\n",
       "      <td>111.751223</td>\n",
       "      <td>-139.521058</td>\n",
       "      <td>15.587590</td>\n",
       "      <td>-0.594559</td>\n",
       "      <td>-19.313860</td>\n",
       "      <td>70.677833</td>\n",
       "      <td>-53.806709</td>\n",
       "      <td>133.994773</td>\n",
       "    </tr>\n",
       "  </tbody>\n",
       "</table>\n",
       "<p>2 rows × 21 columns</p>\n",
       "</div>"
      ],
      "text/plain": [
       "   id         x0          y0         x1         y1          x2          y2  \\\n",
       "0   0  29.379006 -177.906597  66.239362 -143.49507 -107.178287 -338.177166   \n",
       "1   1 -42.192600  116.207765  81.428046  -94.91560  -68.070200  154.431135   \n",
       "\n",
       "          x3          y3         x4  ...          x5          y5          x6  \\\n",
       "0  22.166375 -185.843612  84.694131  ...  136.901770  -81.681363  -84.118333   \n",
       "1  87.454642 -119.361432 -86.614036  ...  -40.894683  123.924804  111.751223   \n",
       "\n",
       "           y6          x7          y7         x8          y8         x9  \\\n",
       "0 -334.626033 -100.681489 -336.766765 -37.043301 -253.037134   0.695548   \n",
       "1 -139.521058   15.587590   -0.594559 -19.313860   70.677833 -53.806709   \n",
       "\n",
       "           y9  \n",
       "0 -211.044600  \n",
       "1  133.994773  \n",
       "\n",
       "[2 rows x 21 columns]"
      ]
     },
     "execution_count": 3,
     "metadata": {},
     "output_type": "execute_result"
    }
   ],
   "source": [
    "data_data.head(2)"
   ]
  },
  {
   "cell_type": "markdown",
   "metadata": {},
   "source": [
    "# Loading Ground Truth for Tranning Data \n"
   ]
  },
  {
   "cell_type": "code",
   "execution_count": 4,
   "metadata": {},
   "outputs": [],
   "source": [
    "data_labels = pd.read_csv(\"/home/nitin/Desktop/keras-regression-master//database/train/train_100k.truth.csv\") # '../database/train/train_100k.truth.csv'\n"
   ]
  },
  {
   "cell_type": "code",
   "execution_count": 5,
   "metadata": {},
   "outputs": [
    {
     "data": {
      "text/html": [
       "<div>\n",
       "<style scoped>\n",
       "    .dataframe tbody tr th:only-of-type {\n",
       "        vertical-align: middle;\n",
       "    }\n",
       "\n",
       "    .dataframe tbody tr th {\n",
       "        vertical-align: top;\n",
       "    }\n",
       "\n",
       "    .dataframe thead th {\n",
       "        text-align: right;\n",
       "    }\n",
       "</style>\n",
       "<table border=\"1\" class=\"dataframe\">\n",
       "  <thead>\n",
       "    <tr style=\"text-align: right;\">\n",
       "      <th></th>\n",
       "      <th>id</th>\n",
       "      <th>slope</th>\n",
       "      <th>intercept</th>\n",
       "    </tr>\n",
       "  </thead>\n",
       "  <tbody>\n",
       "    <tr>\n",
       "      <th>0</th>\n",
       "      <td>0</td>\n",
       "      <td>1.132627</td>\n",
       "      <td>-219.723905</td>\n",
       "    </tr>\n",
       "    <tr>\n",
       "      <th>1</th>\n",
       "      <td>1</td>\n",
       "      <td>-1.847354</td>\n",
       "      <td>40.482329</td>\n",
       "    </tr>\n",
       "  </tbody>\n",
       "</table>\n",
       "</div>"
      ],
      "text/plain": [
       "   id     slope   intercept\n",
       "0   0  1.132627 -219.723905\n",
       "1   1 -1.847354   40.482329"
      ]
     },
     "execution_count": 5,
     "metadata": {},
     "output_type": "execute_result"
    }
   ],
   "source": [
    "data_labels.head(2)"
   ]
  },
  {
   "cell_type": "markdown",
   "metadata": {},
   "source": [
    "# Loading Test data set "
   ]
  },
  {
   "cell_type": "code",
   "execution_count": 6,
   "metadata": {},
   "outputs": [],
   "source": [
    "data_test = pd.read_csv(\"/home/nitin/Desktop/keras-regression-master/database/test/test_100k.csv\") # '../database/test/test_100k.csv'\n",
    " "
   ]
  },
  {
   "cell_type": "code",
   "execution_count": 7,
   "metadata": {},
   "outputs": [
    {
     "data": {
      "text/html": [
       "<div>\n",
       "<style scoped>\n",
       "    .dataframe tbody tr th:only-of-type {\n",
       "        vertical-align: middle;\n",
       "    }\n",
       "\n",
       "    .dataframe tbody tr th {\n",
       "        vertical-align: top;\n",
       "    }\n",
       "\n",
       "    .dataframe thead th {\n",
       "        text-align: right;\n",
       "    }\n",
       "</style>\n",
       "<table border=\"1\" class=\"dataframe\">\n",
       "  <thead>\n",
       "    <tr style=\"text-align: right;\">\n",
       "      <th></th>\n",
       "      <th>id</th>\n",
       "      <th>x0</th>\n",
       "      <th>y0</th>\n",
       "      <th>x1</th>\n",
       "      <th>y1</th>\n",
       "      <th>x2</th>\n",
       "      <th>y2</th>\n",
       "      <th>x3</th>\n",
       "      <th>y3</th>\n",
       "      <th>x4</th>\n",
       "      <th>...</th>\n",
       "      <th>x5</th>\n",
       "      <th>y5</th>\n",
       "      <th>x6</th>\n",
       "      <th>y6</th>\n",
       "      <th>x7</th>\n",
       "      <th>y7</th>\n",
       "      <th>x8</th>\n",
       "      <th>y8</th>\n",
       "      <th>x9</th>\n",
       "      <th>y9</th>\n",
       "    </tr>\n",
       "  </thead>\n",
       "  <tbody>\n",
       "    <tr>\n",
       "      <th>0</th>\n",
       "      <td>0</td>\n",
       "      <td>71.222322</td>\n",
       "      <td>108.068811</td>\n",
       "      <td>-18.007281</td>\n",
       "      <td>237.215087</td>\n",
       "      <td>-3.841226</td>\n",
       "      <td>204.741403</td>\n",
       "      <td>-58.849720</td>\n",
       "      <td>260.483835</td>\n",
       "      <td>-52.056002</td>\n",
       "      <td>...</td>\n",
       "      <td>11.751514</td>\n",
       "      <td>200.906386</td>\n",
       "      <td>-72.994373</td>\n",
       "      <td>288.208877</td>\n",
       "      <td>93.297193</td>\n",
       "      <td>69.952999</td>\n",
       "      <td>-47.006169</td>\n",
       "      <td>262.735790</td>\n",
       "      <td>40.499569</td>\n",
       "      <td>159.883677</td>\n",
       "    </tr>\n",
       "    <tr>\n",
       "      <th>1</th>\n",
       "      <td>1</td>\n",
       "      <td>-3.214690</td>\n",
       "      <td>12.107857</td>\n",
       "      <td>-25.870974</td>\n",
       "      <td>48.638382</td>\n",
       "      <td>58.614339</td>\n",
       "      <td>-52.683957</td>\n",
       "      <td>-7.681873</td>\n",
       "      <td>10.727864</td>\n",
       "      <td>59.550048</td>\n",
       "      <td>...</td>\n",
       "      <td>-22.436669</td>\n",
       "      <td>26.141211</td>\n",
       "      <td>-41.874875</td>\n",
       "      <td>61.856665</td>\n",
       "      <td>5.690588</td>\n",
       "      <td>2.823426</td>\n",
       "      <td>13.122010</td>\n",
       "      <td>-11.562005</td>\n",
       "      <td>-63.664182</td>\n",
       "      <td>76.761295</td>\n",
       "    </tr>\n",
       "  </tbody>\n",
       "</table>\n",
       "<p>2 rows × 21 columns</p>\n",
       "</div>"
      ],
      "text/plain": [
       "   id         x0          y0         x1          y1         x2          y2  \\\n",
       "0   0  71.222322  108.068811 -18.007281  237.215087  -3.841226  204.741403   \n",
       "1   1  -3.214690   12.107857 -25.870974   48.638382  58.614339  -52.683957   \n",
       "\n",
       "          x3          y3         x4  ...         x5          y5         x6  \\\n",
       "0 -58.849720  260.483835 -52.056002  ...  11.751514  200.906386 -72.994373   \n",
       "1  -7.681873   10.727864  59.550048  ... -22.436669   26.141211 -41.874875   \n",
       "\n",
       "           y6         x7         y7         x8          y8         x9  \\\n",
       "0  288.208877  93.297193  69.952999 -47.006169  262.735790  40.499569   \n",
       "1   61.856665   5.690588   2.823426  13.122010  -11.562005 -63.664182   \n",
       "\n",
       "           y9  \n",
       "0  159.883677  \n",
       "1   76.761295  \n",
       "\n",
       "[2 rows x 21 columns]"
      ]
     },
     "execution_count": 7,
     "metadata": {},
     "output_type": "execute_result"
    }
   ],
   "source": [
    "data_test.head(2)"
   ]
  },
  {
   "cell_type": "code",
   "execution_count": 8,
   "metadata": {},
   "outputs": [
    {
     "data": {
      "text/plain": [
       "array([   0.        ,   29.37900571, -177.90659732,   66.23936185,\n",
       "       -143.49507023, -107.17828725, -338.17716559,   22.16637465,\n",
       "       -185.84361204,   84.6941314 , -130.54795596,  136.90176958,\n",
       "        -81.68136257,  -84.11833255, -334.62603307, -100.68148866,\n",
       "       -336.76676483,  -37.04330138, -253.03713404,    0.69554829,\n",
       "       -211.04459974])"
      ]
     },
     "execution_count": 8,
     "metadata": {},
     "output_type": "execute_result"
    }
   ],
   "source": [
    "train_data = data_data.values\n",
    "train_data[0]"
   ]
  },
  {
   "cell_type": "code",
   "execution_count": 9,
   "metadata": {},
   "outputs": [
    {
     "data": {
      "text/plain": [
       "array([   0.        ,    1.13262672, -219.72390509])"
      ]
     },
     "execution_count": 9,
     "metadata": {},
     "output_type": "execute_result"
    }
   ],
   "source": [
    "train_labels = data_labels.values\n",
    "train_labels[0]"
   ]
  },
  {
   "cell_type": "code",
   "execution_count": 10,
   "metadata": {},
   "outputs": [
    {
     "data": {
      "text/plain": [
       "array([  29.37900571, -177.90659732,   66.23936185, -143.49507023,\n",
       "       -107.17828725, -338.17716559,   22.16637465, -185.84361204,\n",
       "         84.6941314 , -130.54795596,  136.90176958,  -81.68136257,\n",
       "        -84.11833255, -334.62603307, -100.68148866, -336.76676483,\n",
       "        -37.04330138, -253.03713404,    0.69554829, -211.04459974])"
      ]
     },
     "execution_count": 10,
     "metadata": {},
     "output_type": "execute_result"
    }
   ],
   "source": [
    "td = train_data[:, 1:]\n",
    "td[0]\n"
   ]
  },
  {
   "cell_type": "code",
   "execution_count": 11,
   "metadata": {},
   "outputs": [
    {
     "data": {
      "text/plain": [
       "array([   1.13262672, -219.72390509])"
      ]
     },
     "execution_count": 11,
     "metadata": {},
     "output_type": "execute_result"
    }
   ],
   "source": [
    "tl = train_labels[:, 1:]\n",
    "tl[0]"
   ]
  },
  {
   "cell_type": "code",
   "execution_count": 12,
   "metadata": {},
   "outputs": [
    {
     "data": {
      "text/plain": [
       "array([ 71.2223217 , 108.06881074, -18.00728057, 237.21508658,\n",
       "        -3.84122624, 204.74140346, -58.84972014, 260.48383521,\n",
       "       -52.056002  , 271.4469372 ,  11.75151377, 200.90638634,\n",
       "       -72.99437307, 288.20887701,  93.29719257,  69.95299883,\n",
       "       -47.00616922, 262.7357902 ,  40.4995692 , 159.8836771 ])"
      ]
     },
     "execution_count": 12,
     "metadata": {},
     "output_type": "execute_result"
    }
   ],
   "source": [
    "test_data = data_test.values[:, 1:]\n",
    "test_data[0]"
   ]
  },
  {
   "cell_type": "code",
   "execution_count": 13,
   "metadata": {},
   "outputs": [
    {
     "data": {
      "application/javascript": [
       "\n",
       "        if (window._pyforest_update_imports_cell) { window._pyforest_update_imports_cell('import keras'); }\n",
       "    "
      ],
      "text/plain": [
       "<IPython.core.display.Javascript object>"
      ]
     },
     "metadata": {},
     "output_type": "display_data"
    }
   ],
   "source": [
    "model = Sequential()\n",
    "model.add(Dense(50, input_dim=td.shape[1], activation='relu'))\n",
    "model.add(Dense(40, activation='relu'))\n",
    "model.add(Dense(30, activation='relu'))\n",
    "model.add(Dense(20, activation='relu'))\n",
    "model.add(Dense(10, activation='relu'))\n",
    "model.add(Dense(2, activation='linear'))\n",
    "\n",
    "opt = keras.optimizers.rmsprop(learning_rate=0.01)\n",
    "\n",
    "\n",
    "\n",
    "\n",
    "model.compile(optimizer=opt, loss='mse', metrics=['acc', 'mae'])\n",
    "\n",
    "\n",
    "\n",
    "\n",
    "    "
   ]
  },
  {
   "cell_type": "code",
   "execution_count": 14,
   "metadata": {},
   "outputs": [
    {
     "name": "stdout",
     "output_type": "stream",
     "text": [
      "Model: \"sequential_1\"\n",
      "_________________________________________________________________\n",
      "Layer (type)                 Output Shape              Param #   \n",
      "=================================================================\n",
      "dense_1 (Dense)              (None, 50)                1050      \n",
      "_________________________________________________________________\n",
      "dense_2 (Dense)              (None, 40)                2040      \n",
      "_________________________________________________________________\n",
      "dense_3 (Dense)              (None, 30)                1230      \n",
      "_________________________________________________________________\n",
      "dense_4 (Dense)              (None, 20)                620       \n",
      "_________________________________________________________________\n",
      "dense_5 (Dense)              (None, 10)                210       \n",
      "_________________________________________________________________\n",
      "dense_6 (Dense)              (None, 2)                 22        \n",
      "=================================================================\n",
      "Total params: 5,172\n",
      "Trainable params: 5,172\n",
      "Non-trainable params: 0\n",
      "_________________________________________________________________\n"
     ]
    }
   ],
   "source": [
    "model.summary()"
   ]
  },
  {
   "cell_type": "markdown",
   "metadata": {},
   "source": [
    "# Setting Callback Functions"
   ]
  },
  {
   "cell_type": "code",
   "execution_count": 15,
   "metadata": {},
   "outputs": [],
   "source": [
    "earlystop = EarlyStopping(patience=10)"
   ]
  },
  {
   "cell_type": "code",
   "execution_count": 16,
   "metadata": {},
   "outputs": [],
   "source": [
    "learning_rate_reduction = ReduceLROnPlateau(monitor='val_acc', \n",
    "                                            patience=2, \n",
    "                                            verbose=1, \n",
    "                                            factor=0.5, \n",
    "                                            min_lr=0.00001)"
   ]
  },
  {
   "cell_type": "code",
   "execution_count": 17,
   "metadata": {},
   "outputs": [],
   "source": [
    "filepath = \"saved-model-{val_acc:.2f}.hdf5\"\n",
    "checkpoint = ModelCheckpoint(filepath, monitor='val_acc', verbose=1, save_best_only=False, mode='max')"
   ]
  },
  {
   "cell_type": "code",
   "execution_count": 18,
   "metadata": {},
   "outputs": [],
   "source": [
    "callbacks = [earlystop,learning_rate_reduction,checkpoint]"
   ]
  },
  {
   "cell_type": "code",
   "execution_count": 19,
   "metadata": {},
   "outputs": [
    {
     "name": "stdout",
     "output_type": "stream",
     "text": [
      "Train on 70000 samples, validate on 30000 samples\n",
      "Epoch 1/300\n",
      " - 3s - loss: 1390.1402 - acc: 0.9593 - mae: 16.7814 - val_loss: 1168.2797 - val_acc: 0.9633 - val_mae: 16.6197\n",
      "\n",
      "Epoch 00001: saving model to saved-model-0.96.hdf5\n",
      "Epoch 2/300\n",
      " - 3s - loss: 474.0338 - acc: 0.9767 - mae: 10.2971 - val_loss: 336.4472 - val_acc: 0.9804 - val_mae: 9.9249\n",
      "\n",
      "Epoch 00002: saving model to saved-model-0.98.hdf5\n",
      "Epoch 3/300\n",
      " - 3s - loss: 354.9728 - acc: 0.9803 - mae: 9.0205 - val_loss: 257.2424 - val_acc: 0.9817 - val_mae: 7.5761\n",
      "\n",
      "Epoch 00003: saving model to saved-model-0.98.hdf5\n",
      "Epoch 4/300\n",
      " - 3s - loss: 296.7601 - acc: 0.9810 - mae: 8.4017 - val_loss: 314.8060 - val_acc: 0.9836 - val_mae: 8.6061\n",
      "\n",
      "Epoch 00004: saving model to saved-model-0.98.hdf5\n",
      "Epoch 5/300\n",
      " - 3s - loss: 272.8698 - acc: 0.9812 - mae: 8.0752 - val_loss: 258.0281 - val_acc: 0.9780 - val_mae: 8.0310\n",
      "\n",
      "Epoch 00005: saving model to saved-model-0.98.hdf5\n",
      "Epoch 6/300\n",
      " - 3s - loss: 252.3715 - acc: 0.9821 - mae: 7.7645 - val_loss: 158.7654 - val_acc: 0.9771 - val_mae: 5.9255\n",
      "\n",
      "Epoch 00006: ReduceLROnPlateau reducing learning rate to 0.004999999888241291.\n",
      "\n",
      "Epoch 00006: saving model to saved-model-0.98.hdf5\n",
      "Epoch 7/300\n",
      " - 3s - loss: 112.5125 - acc: 0.9852 - mae: 5.3536 - val_loss: 107.5735 - val_acc: 0.9866 - val_mae: 4.9975\n",
      "\n",
      "Epoch 00007: saving model to saved-model-0.99.hdf5\n",
      "Epoch 8/300\n",
      " - 3s - loss: 104.8236 - acc: 0.9862 - mae: 5.2225 - val_loss: 119.5336 - val_acc: 0.9869 - val_mae: 5.3805\n",
      "\n",
      "Epoch 00008: saving model to saved-model-0.99.hdf5\n",
      "Epoch 9/300\n",
      " - 3s - loss: 102.3365 - acc: 0.9863 - mae: 5.1428 - val_loss: 99.4499 - val_acc: 0.9879 - val_mae: 4.8406\n",
      "\n",
      "Epoch 00009: saving model to saved-model-0.99.hdf5\n",
      "Epoch 10/300\n",
      " - 3s - loss: 103.8168 - acc: 0.9863 - mae: 5.1474 - val_loss: 97.1050 - val_acc: 0.9867 - val_mae: 4.8187\n",
      "\n",
      "Epoch 00010: saving model to saved-model-0.99.hdf5\n",
      "Epoch 11/300\n",
      " - 3s - loss: 99.5024 - acc: 0.9868 - mae: 5.0719 - val_loss: 118.2685 - val_acc: 0.9869 - val_mae: 5.3176\n",
      "\n",
      "Epoch 00011: ReduceLROnPlateau reducing learning rate to 0.0024999999441206455.\n",
      "\n",
      "Epoch 00011: saving model to saved-model-0.99.hdf5\n",
      "Epoch 12/300\n",
      " - 3s - loss: 61.5142 - acc: 0.9879 - mae: 4.0270 - val_loss: 77.9326 - val_acc: 0.9881 - val_mae: 4.4809\n",
      "\n",
      "Epoch 00012: saving model to saved-model-0.99.hdf5\n",
      "Epoch 13/300\n",
      " - 3s - loss: 60.3896 - acc: 0.9881 - mae: 3.9812 - val_loss: 71.4426 - val_acc: 0.9883 - val_mae: 4.0368\n",
      "\n",
      "Epoch 00013: saving model to saved-model-0.99.hdf5\n",
      "Epoch 14/300\n",
      " - 3s - loss: 59.5590 - acc: 0.9882 - mae: 3.9646 - val_loss: 63.9045 - val_acc: 0.9893 - val_mae: 3.7432\n",
      "\n",
      "Epoch 00014: saving model to saved-model-0.99.hdf5\n",
      "Epoch 15/300\n",
      " - 3s - loss: 59.1511 - acc: 0.9876 - mae: 3.9397 - val_loss: 86.9522 - val_acc: 0.9890 - val_mae: 4.6160\n",
      "\n",
      "Epoch 00015: saving model to saved-model-0.99.hdf5\n",
      "Epoch 16/300\n",
      " - 3s - loss: 58.5975 - acc: 0.9887 - mae: 3.9309 - val_loss: 72.0866 - val_acc: 0.9898 - val_mae: 4.2206\n",
      "\n",
      "Epoch 00016: saving model to saved-model-0.99.hdf5\n",
      "Epoch 17/300\n",
      " - 3s - loss: 57.7557 - acc: 0.9884 - mae: 3.9126 - val_loss: 62.7335 - val_acc: 0.9898 - val_mae: 3.8071\n",
      "\n",
      "Epoch 00017: saving model to saved-model-0.99.hdf5\n",
      "Epoch 18/300\n",
      " - 3s - loss: 57.5933 - acc: 0.9879 - mae: 3.8965 - val_loss: 102.3211 - val_acc: 0.9874 - val_mae: 5.4049\n",
      "\n",
      "Epoch 00018: ReduceLROnPlateau reducing learning rate to 0.0012499999720603228.\n",
      "\n",
      "Epoch 00018: saving model to saved-model-0.99.hdf5\n",
      "Epoch 19/300\n",
      " - 3s - loss: 43.9903 - acc: 0.9893 - mae: 3.4317 - val_loss: 60.6229 - val_acc: 0.9891 - val_mae: 3.7459\n",
      "\n",
      "Epoch 00019: saving model to saved-model-0.99.hdf5\n",
      "Epoch 20/300\n",
      " - 3s - loss: 42.8252 - acc: 0.9891 - mae: 3.4132 - val_loss: 52.6671 - val_acc: 0.9899 - val_mae: 3.4414\n",
      "\n",
      "Epoch 00020: ReduceLROnPlateau reducing learning rate to 0.0006249999860301614.\n",
      "\n",
      "Epoch 00020: saving model to saved-model-0.99.hdf5\n",
      "Epoch 21/300\n",
      " - 3s - loss: 38.0715 - acc: 0.9896 - mae: 3.2183 - val_loss: 48.7657 - val_acc: 0.9899 - val_mae: 3.2812\n",
      "\n",
      "Epoch 00021: saving model to saved-model-0.99.hdf5\n",
      "Epoch 22/300\n",
      " - 3s - loss: 37.8074 - acc: 0.9898 - mae: 3.2050 - val_loss: 49.6734 - val_acc: 0.9903 - val_mae: 3.3246\n",
      "\n",
      "Epoch 00022: saving model to saved-model-0.99.hdf5\n",
      "Epoch 23/300\n",
      " - 3s - loss: 37.4785 - acc: 0.9901 - mae: 3.1984 - val_loss: 49.6093 - val_acc: 0.9904 - val_mae: 3.3126\n",
      "\n",
      "Epoch 00023: saving model to saved-model-0.99.hdf5\n",
      "Epoch 24/300\n",
      " - 3s - loss: 37.1602 - acc: 0.9898 - mae: 3.1945 - val_loss: 48.4981 - val_acc: 0.9904 - val_mae: 3.3293\n",
      "\n",
      "Epoch 00024: saving model to saved-model-0.99.hdf5\n",
      "Epoch 25/300\n",
      " - 3s - loss: 37.2478 - acc: 0.9901 - mae: 3.1928 - val_loss: 47.5903 - val_acc: 0.9906 - val_mae: 3.2820\n",
      "\n",
      "Epoch 00025: saving model to saved-model-0.99.hdf5\n",
      "Epoch 26/300\n",
      " - 3s - loss: 36.8370 - acc: 0.9898 - mae: 3.1807 - val_loss: 47.1547 - val_acc: 0.9902 - val_mae: 3.2454\n",
      "\n",
      "Epoch 00026: saving model to saved-model-0.99.hdf5\n",
      "Epoch 27/300\n",
      " - 3s - loss: 36.9450 - acc: 0.9899 - mae: 3.1848 - val_loss: 49.6167 - val_acc: 0.9906 - val_mae: 3.3640\n",
      "\n",
      "Epoch 00027: ReduceLROnPlateau reducing learning rate to 0.0003124999930150807.\n",
      "\n",
      "Epoch 00027: saving model to saved-model-0.99.hdf5\n",
      "Epoch 28/300\n",
      " - 3s - loss: 34.7269 - acc: 0.9900 - mae: 3.0932 - val_loss: 46.1867 - val_acc: 0.9908 - val_mae: 3.2230\n",
      "\n",
      "Epoch 00028: saving model to saved-model-0.99.hdf5\n",
      "Epoch 29/300\n",
      " - 3s - loss: 34.4328 - acc: 0.9900 - mae: 3.0848 - val_loss: 46.5002 - val_acc: 0.9905 - val_mae: 3.1931\n",
      "\n",
      "Epoch 00029: saving model to saved-model-0.99.hdf5\n",
      "Epoch 30/300\n",
      " - 3s - loss: 34.4536 - acc: 0.9902 - mae: 3.0836 - val_loss: 47.7505 - val_acc: 0.9904 - val_mae: 3.2401\n",
      "\n",
      "Epoch 00030: ReduceLROnPlateau reducing learning rate to 0.00015624999650754035.\n",
      "\n",
      "Epoch 00030: saving model to saved-model-0.99.hdf5\n",
      "Epoch 31/300\n",
      " - 3s - loss: 33.2449 - acc: 0.9902 - mae: 3.0414 - val_loss: 46.2381 - val_acc: 0.9907 - val_mae: 3.1868\n",
      "\n",
      "Epoch 00031: saving model to saved-model-0.99.hdf5\n",
      "Epoch 32/300\n",
      " - 3s - loss: 33.2401 - acc: 0.9901 - mae: 3.0369 - val_loss: 46.7595 - val_acc: 0.9906 - val_mae: 3.2216\n",
      "\n",
      "Epoch 00032: ReduceLROnPlateau reducing learning rate to 7.812499825377017e-05.\n",
      "\n",
      "Epoch 00032: saving model to saved-model-0.99.hdf5\n",
      "Epoch 33/300\n",
      " - 3s - loss: 32.7323 - acc: 0.9904 - mae: 3.0168 - val_loss: 45.6570 - val_acc: 0.9906 - val_mae: 3.1829\n",
      "\n",
      "Epoch 00033: saving model to saved-model-0.99.hdf5\n",
      "Epoch 34/300\n",
      " - 3s - loss: 32.7183 - acc: 0.9901 - mae: 3.0143 - val_loss: 45.9309 - val_acc: 0.9908 - val_mae: 3.1815\n",
      "\n",
      "Epoch 00034: ReduceLROnPlateau reducing learning rate to 3.9062499126885086e-05.\n",
      "\n",
      "Epoch 00034: saving model to saved-model-0.99.hdf5\n",
      "Epoch 35/300\n",
      " - 3s - loss: 32.3669 - acc: 0.9902 - mae: 3.0035 - val_loss: 45.8051 - val_acc: 0.9908 - val_mae: 3.1791\n",
      "\n",
      "Epoch 00035: saving model to saved-model-0.99.hdf5\n",
      "Epoch 36/300\n",
      " - 3s - loss: 32.3599 - acc: 0.9903 - mae: 3.0030 - val_loss: 45.4551 - val_acc: 0.9907 - val_mae: 3.1736\n",
      "\n",
      "Epoch 00036: ReduceLROnPlateau reducing learning rate to 1.9531249563442543e-05.\n",
      "\n",
      "Epoch 00036: saving model to saved-model-0.99.hdf5\n",
      "Epoch 37/300\n",
      " - 3s - loss: 32.2539 - acc: 0.9904 - mae: 2.9960 - val_loss: 45.4578 - val_acc: 0.9907 - val_mae: 3.1732\n",
      "\n",
      "Epoch 00037: saving model to saved-model-0.99.hdf5\n",
      "Epoch 38/300\n",
      " - 3s - loss: 32.2190 - acc: 0.9903 - mae: 2.9958 - val_loss: 45.4535 - val_acc: 0.9909 - val_mae: 3.1735\n",
      "\n",
      "Epoch 00038: saving model to saved-model-0.99.hdf5\n",
      "Epoch 39/300\n",
      " - 3s - loss: 32.2246 - acc: 0.9903 - mae: 2.9957 - val_loss: 45.5874 - val_acc: 0.9908 - val_mae: 3.1747\n",
      "\n",
      "Epoch 00039: saving model to saved-model-0.99.hdf5\n",
      "Epoch 40/300\n",
      " - 3s - loss: 32.2068 - acc: 0.9903 - mae: 2.9947 - val_loss: 45.4372 - val_acc: 0.9908 - val_mae: 3.1756\n",
      "\n",
      "Epoch 00040: ReduceLROnPlateau reducing learning rate to 1e-05.\n",
      "\n",
      "Epoch 00040: saving model to saved-model-0.99.hdf5\n",
      "Epoch 41/300\n",
      " - 3s - loss: 32.1507 - acc: 0.9904 - mae: 2.9927 - val_loss: 45.4305 - val_acc: 0.9907 - val_mae: 3.1722\n",
      "\n",
      "Epoch 00041: saving model to saved-model-0.99.hdf5\n",
      "Epoch 42/300\n",
      " - 3s - loss: 32.1396 - acc: 0.9903 - mae: 2.9925 - val_loss: 45.5207 - val_acc: 0.9907 - val_mae: 3.1721\n",
      "\n",
      "Epoch 00042: saving model to saved-model-0.99.hdf5\n",
      "Epoch 43/300\n",
      " - 3s - loss: 32.1575 - acc: 0.9903 - mae: 2.9922 - val_loss: 45.4358 - val_acc: 0.9906 - val_mae: 3.1716\n",
      "\n",
      "Epoch 00043: saving model to saved-model-0.99.hdf5\n",
      "Epoch 44/300\n"
     ]
    },
    {
     "name": "stdout",
     "output_type": "stream",
     "text": [
      " - 3s - loss: 32.1499 - acc: 0.9903 - mae: 2.9921 - val_loss: 45.4607 - val_acc: 0.9907 - val_mae: 3.1719\n",
      "\n",
      "Epoch 00044: saving model to saved-model-0.99.hdf5\n",
      "Epoch 45/300\n",
      " - 3s - loss: 32.1358 - acc: 0.9904 - mae: 2.9917 - val_loss: 45.5416 - val_acc: 0.9907 - val_mae: 3.1721\n",
      "\n",
      "Epoch 00045: saving model to saved-model-0.99.hdf5\n",
      "Epoch 46/300\n",
      " - 3s - loss: 32.1402 - acc: 0.9904 - mae: 2.9918 - val_loss: 45.4629 - val_acc: 0.9908 - val_mae: 3.1718\n",
      "\n",
      "Epoch 00046: saving model to saved-model-0.99.hdf5\n",
      "Epoch 47/300\n",
      " - 3s - loss: 32.1548 - acc: 0.9903 - mae: 2.9916 - val_loss: 45.5007 - val_acc: 0.9907 - val_mae: 3.1720\n",
      "\n",
      "Epoch 00047: saving model to saved-model-0.99.hdf5\n",
      "Epoch 48/300\n",
      " - 3s - loss: 32.1573 - acc: 0.9903 - mae: 2.9918 - val_loss: 45.5222 - val_acc: 0.9907 - val_mae: 3.1735\n",
      "\n",
      "Epoch 00048: saving model to saved-model-0.99.hdf5\n",
      "Epoch 49/300\n",
      " - 3s - loss: 32.1565 - acc: 0.9903 - mae: 2.9909 - val_loss: 45.4453 - val_acc: 0.9908 - val_mae: 3.1731\n",
      "\n",
      "Epoch 00049: saving model to saved-model-0.99.hdf5\n",
      "Epoch 50/300\n",
      " - 3s - loss: 32.1330 - acc: 0.9903 - mae: 2.9914 - val_loss: 45.4439 - val_acc: 0.9907 - val_mae: 3.1711\n",
      "\n",
      "Epoch 00050: saving model to saved-model-0.99.hdf5\n",
      "Epoch 51/300\n",
      " - 3s - loss: 32.1327 - acc: 0.9903 - mae: 2.9910 - val_loss: 45.4446 - val_acc: 0.9908 - val_mae: 3.1708\n",
      "\n",
      "Epoch 00051: saving model to saved-model-0.99.hdf5\n"
     ]
    }
   ],
   "source": [
    "history = model.fit(td,tl, epochs=300, verbose=2,callbacks=callbacks,validation_split=0.3)"
   ]
  },
  {
   "cell_type": "code",
   "execution_count": 20,
   "metadata": {},
   "outputs": [],
   "source": [
    "Accuracy = history.history['acc']\n",
    "Val_Accuracy = history.history['val_acc']\n",
    "\n"
   ]
  },
  {
   "cell_type": "code",
   "execution_count": 21,
   "metadata": {},
   "outputs": [
    {
     "name": "stdout",
     "output_type": "stream",
     "text": [
      "Accuracy 0.99032855\n",
      "Val_Accuracy  0.9907666444778442\n"
     ]
    }
   ],
   "source": [
    "Accuracy =  Accuracy.pop()\n",
    "Val_Accuracy = Val_Accuracy.pop()\n",
    "print(\"Accuracy\",Accuracy)\n",
    "print(\"Val_Accuracy \",Val_Accuracy) "
   ]
  },
  {
   "cell_type": "code",
   "execution_count": 22,
   "metadata": {},
   "outputs": [],
   "source": [
    "result_test = model.predict(test_data)"
   ]
  },
  {
   "cell_type": "code",
   "execution_count": 23,
   "metadata": {},
   "outputs": [],
   "source": [
    "result_test_dataframe = pd.DataFrame(result_test, columns=['slope', 'intercept'])"
   ]
  },
  {
   "cell_type": "code",
   "execution_count": 24,
   "metadata": {},
   "outputs": [],
   "source": [
    "result_test_dataframe.index.name = 'id'"
   ]
  },
  {
   "cell_type": "code",
   "execution_count": 25,
   "metadata": {},
   "outputs": [],
   "source": [
    "result_test_dataframe.to_csv(\"result.csv\")"
   ]
  },
  {
   "cell_type": "code",
   "execution_count": null,
   "metadata": {},
   "outputs": [],
   "source": []
  }
 ],
 "metadata": {
  "kernelspec": {
   "display_name": "Python 3",
   "language": "python",
   "name": "python3"
  },
  "language_info": {
   "codemirror_mode": {
    "name": "ipython",
    "version": 3
   },
   "file_extension": ".py",
   "mimetype": "text/x-python",
   "name": "python",
   "nbconvert_exporter": "python",
   "pygments_lexer": "ipython3",
   "version": "3.7.5"
  }
 },
 "nbformat": 4,
 "nbformat_minor": 2
}
