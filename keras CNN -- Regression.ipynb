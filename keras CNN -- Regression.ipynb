{
 "cells": [
  {
   "cell_type": "code",
   "execution_count": 1,
   "metadata": {},
   "outputs": [
    {
     "name": "stderr",
     "output_type": "stream",
     "text": [
      "Using TensorFlow backend.\n"
     ]
    }
   ],
   "source": [
    "import numpy as np\n",
    "import pandas as pd\n",
    "from keras.models import Sequential\n",
    "from keras.layers import Dense,Flatten\n",
    "from keras.optimizers import rmsprop\n",
    "from keras.layers.convolutional import *\n",
    "from keras.callbacks import EarlyStopping, ReduceLROnPlateau,ModelCheckpoint\n",
    "from sklearn.metrics import mean_squared_error\n",
    "        "
   ]
  },
  {
   "cell_type": "markdown",
   "metadata": {},
   "source": [
    "# Loading Tranning Data "
   ]
  },
  {
   "cell_type": "code",
   "execution_count": 2,
   "metadata": {},
   "outputs": [],
   "source": [
    "data_data = pd.read_csv('/home/nitin/Desktop/keras-regression-master/database/train/train_100k.csv') #'../database/train/train_100k.csv'\n"
   ]
  },
  {
   "cell_type": "code",
   "execution_count": 3,
   "metadata": {},
   "outputs": [
    {
     "data": {
      "text/html": [
       "<div>\n",
       "<style scoped>\n",
       "    .dataframe tbody tr th:only-of-type {\n",
       "        vertical-align: middle;\n",
       "    }\n",
       "\n",
       "    .dataframe tbody tr th {\n",
       "        vertical-align: top;\n",
       "    }\n",
       "\n",
       "    .dataframe thead th {\n",
       "        text-align: right;\n",
       "    }\n",
       "</style>\n",
       "<table border=\"1\" class=\"dataframe\">\n",
       "  <thead>\n",
       "    <tr style=\"text-align: right;\">\n",
       "      <th></th>\n",
       "      <th>id</th>\n",
       "      <th>x0</th>\n",
       "      <th>y0</th>\n",
       "      <th>x1</th>\n",
       "      <th>y1</th>\n",
       "      <th>x2</th>\n",
       "      <th>y2</th>\n",
       "      <th>x3</th>\n",
       "      <th>y3</th>\n",
       "      <th>x4</th>\n",
       "      <th>...</th>\n",
       "      <th>x5</th>\n",
       "      <th>y5</th>\n",
       "      <th>x6</th>\n",
       "      <th>y6</th>\n",
       "      <th>x7</th>\n",
       "      <th>y7</th>\n",
       "      <th>x8</th>\n",
       "      <th>y8</th>\n",
       "      <th>x9</th>\n",
       "      <th>y9</th>\n",
       "    </tr>\n",
       "  </thead>\n",
       "  <tbody>\n",
       "    <tr>\n",
       "      <th>0</th>\n",
       "      <td>0</td>\n",
       "      <td>29.379006</td>\n",
       "      <td>-177.906597</td>\n",
       "      <td>66.239362</td>\n",
       "      <td>-143.49507</td>\n",
       "      <td>-107.178287</td>\n",
       "      <td>-338.177166</td>\n",
       "      <td>22.166375</td>\n",
       "      <td>-185.843612</td>\n",
       "      <td>84.694131</td>\n",
       "      <td>...</td>\n",
       "      <td>136.901770</td>\n",
       "      <td>-81.681363</td>\n",
       "      <td>-84.118333</td>\n",
       "      <td>-334.626033</td>\n",
       "      <td>-100.681489</td>\n",
       "      <td>-336.766765</td>\n",
       "      <td>-37.043301</td>\n",
       "      <td>-253.037134</td>\n",
       "      <td>0.695548</td>\n",
       "      <td>-211.044600</td>\n",
       "    </tr>\n",
       "    <tr>\n",
       "      <th>1</th>\n",
       "      <td>1</td>\n",
       "      <td>-42.192600</td>\n",
       "      <td>116.207765</td>\n",
       "      <td>81.428046</td>\n",
       "      <td>-94.91560</td>\n",
       "      <td>-68.070200</td>\n",
       "      <td>154.431135</td>\n",
       "      <td>87.454642</td>\n",
       "      <td>-119.361432</td>\n",
       "      <td>-86.614036</td>\n",
       "      <td>...</td>\n",
       "      <td>-40.894683</td>\n",
       "      <td>123.924804</td>\n",
       "      <td>111.751223</td>\n",
       "      <td>-139.521058</td>\n",
       "      <td>15.587590</td>\n",
       "      <td>-0.594559</td>\n",
       "      <td>-19.313860</td>\n",
       "      <td>70.677833</td>\n",
       "      <td>-53.806709</td>\n",
       "      <td>133.994773</td>\n",
       "    </tr>\n",
       "  </tbody>\n",
       "</table>\n",
       "<p>2 rows × 21 columns</p>\n",
       "</div>"
      ],
      "text/plain": [
       "   id         x0          y0         x1         y1          x2          y2  \\\n",
       "0   0  29.379006 -177.906597  66.239362 -143.49507 -107.178287 -338.177166   \n",
       "1   1 -42.192600  116.207765  81.428046  -94.91560  -68.070200  154.431135   \n",
       "\n",
       "          x3          y3         x4  ...          x5          y5          x6  \\\n",
       "0  22.166375 -185.843612  84.694131  ...  136.901770  -81.681363  -84.118333   \n",
       "1  87.454642 -119.361432 -86.614036  ...  -40.894683  123.924804  111.751223   \n",
       "\n",
       "           y6          x7          y7         x8          y8         x9  \\\n",
       "0 -334.626033 -100.681489 -336.766765 -37.043301 -253.037134   0.695548   \n",
       "1 -139.521058   15.587590   -0.594559 -19.313860   70.677833 -53.806709   \n",
       "\n",
       "           y9  \n",
       "0 -211.044600  \n",
       "1  133.994773  \n",
       "\n",
       "[2 rows x 21 columns]"
      ]
     },
     "execution_count": 3,
     "metadata": {},
     "output_type": "execute_result"
    }
   ],
   "source": [
    "data_data.head(2)"
   ]
  },
  {
   "cell_type": "markdown",
   "metadata": {},
   "source": [
    "# Loading Ground Truth for Tranning Data \n"
   ]
  },
  {
   "cell_type": "code",
   "execution_count": 4,
   "metadata": {},
   "outputs": [],
   "source": [
    "data_labels = pd.read_csv(\"/home/nitin/Desktop/keras-regression-master//database/train/train_100k.truth.csv\") # '../database/train/train_100k.truth.csv'\n"
   ]
  },
  {
   "cell_type": "code",
   "execution_count": 5,
   "metadata": {},
   "outputs": [
    {
     "data": {
      "text/html": [
       "<div>\n",
       "<style scoped>\n",
       "    .dataframe tbody tr th:only-of-type {\n",
       "        vertical-align: middle;\n",
       "    }\n",
       "\n",
       "    .dataframe tbody tr th {\n",
       "        vertical-align: top;\n",
       "    }\n",
       "\n",
       "    .dataframe thead th {\n",
       "        text-align: right;\n",
       "    }\n",
       "</style>\n",
       "<table border=\"1\" class=\"dataframe\">\n",
       "  <thead>\n",
       "    <tr style=\"text-align: right;\">\n",
       "      <th></th>\n",
       "      <th>id</th>\n",
       "      <th>slope</th>\n",
       "      <th>intercept</th>\n",
       "    </tr>\n",
       "  </thead>\n",
       "  <tbody>\n",
       "    <tr>\n",
       "      <th>0</th>\n",
       "      <td>0</td>\n",
       "      <td>1.132627</td>\n",
       "      <td>-219.723905</td>\n",
       "    </tr>\n",
       "    <tr>\n",
       "      <th>1</th>\n",
       "      <td>1</td>\n",
       "      <td>-1.847354</td>\n",
       "      <td>40.482329</td>\n",
       "    </tr>\n",
       "  </tbody>\n",
       "</table>\n",
       "</div>"
      ],
      "text/plain": [
       "   id     slope   intercept\n",
       "0   0  1.132627 -219.723905\n",
       "1   1 -1.847354   40.482329"
      ]
     },
     "execution_count": 5,
     "metadata": {},
     "output_type": "execute_result"
    }
   ],
   "source": [
    "data_labels.head(2)"
   ]
  },
  {
   "cell_type": "markdown",
   "metadata": {},
   "source": [
    "# Loading Test data set "
   ]
  },
  {
   "cell_type": "code",
   "execution_count": 6,
   "metadata": {},
   "outputs": [],
   "source": [
    "data_test = pd.read_csv(\"/home/nitin/Desktop/keras-regression-master/database/test/test_100k.csv\") # '../database/test/test_100k.csv'\n",
    " "
   ]
  },
  {
   "cell_type": "code",
   "execution_count": 7,
   "metadata": {},
   "outputs": [
    {
     "data": {
      "text/html": [
       "<div>\n",
       "<style scoped>\n",
       "    .dataframe tbody tr th:only-of-type {\n",
       "        vertical-align: middle;\n",
       "    }\n",
       "\n",
       "    .dataframe tbody tr th {\n",
       "        vertical-align: top;\n",
       "    }\n",
       "\n",
       "    .dataframe thead th {\n",
       "        text-align: right;\n",
       "    }\n",
       "</style>\n",
       "<table border=\"1\" class=\"dataframe\">\n",
       "  <thead>\n",
       "    <tr style=\"text-align: right;\">\n",
       "      <th></th>\n",
       "      <th>id</th>\n",
       "      <th>x0</th>\n",
       "      <th>y0</th>\n",
       "      <th>x1</th>\n",
       "      <th>y1</th>\n",
       "      <th>x2</th>\n",
       "      <th>y2</th>\n",
       "      <th>x3</th>\n",
       "      <th>y3</th>\n",
       "      <th>x4</th>\n",
       "      <th>...</th>\n",
       "      <th>x5</th>\n",
       "      <th>y5</th>\n",
       "      <th>x6</th>\n",
       "      <th>y6</th>\n",
       "      <th>x7</th>\n",
       "      <th>y7</th>\n",
       "      <th>x8</th>\n",
       "      <th>y8</th>\n",
       "      <th>x9</th>\n",
       "      <th>y9</th>\n",
       "    </tr>\n",
       "  </thead>\n",
       "  <tbody>\n",
       "    <tr>\n",
       "      <th>0</th>\n",
       "      <td>0</td>\n",
       "      <td>71.222322</td>\n",
       "      <td>108.068811</td>\n",
       "      <td>-18.007281</td>\n",
       "      <td>237.215087</td>\n",
       "      <td>-3.841226</td>\n",
       "      <td>204.741403</td>\n",
       "      <td>-58.849720</td>\n",
       "      <td>260.483835</td>\n",
       "      <td>-52.056002</td>\n",
       "      <td>...</td>\n",
       "      <td>11.751514</td>\n",
       "      <td>200.906386</td>\n",
       "      <td>-72.994373</td>\n",
       "      <td>288.208877</td>\n",
       "      <td>93.297193</td>\n",
       "      <td>69.952999</td>\n",
       "      <td>-47.006169</td>\n",
       "      <td>262.735790</td>\n",
       "      <td>40.499569</td>\n",
       "      <td>159.883677</td>\n",
       "    </tr>\n",
       "    <tr>\n",
       "      <th>1</th>\n",
       "      <td>1</td>\n",
       "      <td>-3.214690</td>\n",
       "      <td>12.107857</td>\n",
       "      <td>-25.870974</td>\n",
       "      <td>48.638382</td>\n",
       "      <td>58.614339</td>\n",
       "      <td>-52.683957</td>\n",
       "      <td>-7.681873</td>\n",
       "      <td>10.727864</td>\n",
       "      <td>59.550048</td>\n",
       "      <td>...</td>\n",
       "      <td>-22.436669</td>\n",
       "      <td>26.141211</td>\n",
       "      <td>-41.874875</td>\n",
       "      <td>61.856665</td>\n",
       "      <td>5.690588</td>\n",
       "      <td>2.823426</td>\n",
       "      <td>13.122010</td>\n",
       "      <td>-11.562005</td>\n",
       "      <td>-63.664182</td>\n",
       "      <td>76.761295</td>\n",
       "    </tr>\n",
       "  </tbody>\n",
       "</table>\n",
       "<p>2 rows × 21 columns</p>\n",
       "</div>"
      ],
      "text/plain": [
       "   id         x0          y0         x1          y1         x2          y2  \\\n",
       "0   0  71.222322  108.068811 -18.007281  237.215087  -3.841226  204.741403   \n",
       "1   1  -3.214690   12.107857 -25.870974   48.638382  58.614339  -52.683957   \n",
       "\n",
       "          x3          y3         x4  ...         x5          y5         x6  \\\n",
       "0 -58.849720  260.483835 -52.056002  ...  11.751514  200.906386 -72.994373   \n",
       "1  -7.681873   10.727864  59.550048  ... -22.436669   26.141211 -41.874875   \n",
       "\n",
       "           y6         x7         y7         x8          y8         x9  \\\n",
       "0  288.208877  93.297193  69.952999 -47.006169  262.735790  40.499569   \n",
       "1   61.856665   5.690588   2.823426  13.122010  -11.562005 -63.664182   \n",
       "\n",
       "           y9  \n",
       "0  159.883677  \n",
       "1   76.761295  \n",
       "\n",
       "[2 rows x 21 columns]"
      ]
     },
     "execution_count": 7,
     "metadata": {},
     "output_type": "execute_result"
    }
   ],
   "source": [
    "data_test.head(2)"
   ]
  },
  {
   "cell_type": "code",
   "execution_count": 8,
   "metadata": {},
   "outputs": [
    {
     "data": {
      "text/plain": [
       "array([   0.        ,   29.37900571, -177.90659732,   66.23936185,\n",
       "       -143.49507023, -107.17828725, -338.17716559,   22.16637465,\n",
       "       -185.84361204,   84.6941314 , -130.54795596,  136.90176958,\n",
       "        -81.68136257,  -84.11833255, -334.62603307, -100.68148866,\n",
       "       -336.76676483,  -37.04330138, -253.03713404,    0.69554829,\n",
       "       -211.04459974])"
      ]
     },
     "execution_count": 8,
     "metadata": {},
     "output_type": "execute_result"
    }
   ],
   "source": [
    "train_data = data_data.values\n",
    "train_data[0]"
   ]
  },
  {
   "cell_type": "code",
   "execution_count": 9,
   "metadata": {},
   "outputs": [
    {
     "data": {
      "text/plain": [
       "array([   0.        ,    1.13262672, -219.72390509])"
      ]
     },
     "execution_count": 9,
     "metadata": {},
     "output_type": "execute_result"
    }
   ],
   "source": [
    "train_labels = data_labels.values\n",
    "train_labels[0]\n"
   ]
  },
  {
   "cell_type": "code",
   "execution_count": 10,
   "metadata": {},
   "outputs": [
    {
     "name": "stdout",
     "output_type": "stream",
     "text": [
      "(100000, 20)\n"
     ]
    },
    {
     "data": {
      "text/plain": [
       "array([  29.37900571, -177.90659732,   66.23936185, -143.49507023,\n",
       "       -107.17828725, -338.17716559,   22.16637465, -185.84361204,\n",
       "         84.6941314 , -130.54795596,  136.90176958,  -81.68136257,\n",
       "        -84.11833255, -334.62603307, -100.68148866, -336.76676483,\n",
       "        -37.04330138, -253.03713404,    0.69554829, -211.04459974])"
      ]
     },
     "execution_count": 10,
     "metadata": {},
     "output_type": "execute_result"
    }
   ],
   "source": [
    "td = train_data[:, 1:]\n",
    "\n",
    "print(td.shape)\n",
    "td[0]\n"
   ]
  },
  {
   "cell_type": "code",
   "execution_count": 11,
   "metadata": {},
   "outputs": [
    {
     "name": "stdout",
     "output_type": "stream",
     "text": [
      "(100000, 20, 1)\n"
     ]
    }
   ],
   "source": [
    "td = td.reshape(td.shape[0], td.shape[1], 1)\n",
    "print(td.shape)"
   ]
  },
  {
   "cell_type": "code",
   "execution_count": 12,
   "metadata": {},
   "outputs": [
    {
     "data": {
      "text/plain": [
       "array([   1.13262672, -219.72390509])"
      ]
     },
     "execution_count": 12,
     "metadata": {},
     "output_type": "execute_result"
    }
   ],
   "source": [
    "tl = train_labels[:, 1:]\n",
    "tl[0]"
   ]
  },
  {
   "cell_type": "code",
   "execution_count": 13,
   "metadata": {},
   "outputs": [
    {
     "data": {
      "text/plain": [
       "array([ 71.2223217 , 108.06881074, -18.00728057, 237.21508658,\n",
       "        -3.84122624, 204.74140346, -58.84972014, 260.48383521,\n",
       "       -52.056002  , 271.4469372 ,  11.75151377, 200.90638634,\n",
       "       -72.99437307, 288.20887701,  93.29719257,  69.95299883,\n",
       "       -47.00616922, 262.7357902 ,  40.4995692 , 159.8836771 ])"
      ]
     },
     "execution_count": 13,
     "metadata": {},
     "output_type": "execute_result"
    }
   ],
   "source": [
    "test_data = data_test.values[:, 1:]\n",
    "test_data[0]"
   ]
  },
  {
   "cell_type": "code",
   "execution_count": 14,
   "metadata": {},
   "outputs": [
    {
     "name": "stdout",
     "output_type": "stream",
     "text": [
      "(100000, 20, 1)\n"
     ]
    }
   ],
   "source": [
    "test_data = test_data.reshape(test_data.shape[0], test_data.shape[1], 1)\n",
    "print(test_data.shape)"
   ]
  },
  {
   "cell_type": "code",
   "execution_count": 15,
   "metadata": {},
   "outputs": [
    {
     "data": {
      "application/javascript": [
       "\n",
       "        if (window._pyforest_update_imports_cell) { window._pyforest_update_imports_cell('from sklearn.model_selection import train_test_split'); }\n",
       "    "
      ],
      "text/plain": [
       "<IPython.core.display.Javascript object>"
      ]
     },
     "metadata": {},
     "output_type": "display_data"
    }
   ],
   "source": [
    "xtrain, xtest, ytrain, ytest=train_test_split(td,tl, test_size=0.15)\n"
   ]
  },
  {
   "cell_type": "markdown",
   "metadata": {},
   "source": [
    "# Creating Model using CNN with conv1D"
   ]
  },
  {
   "cell_type": "code",
   "execution_count": 16,
   "metadata": {},
   "outputs": [],
   "source": [
    "model = Sequential()\n",
    "model.add(Conv1D(32, 2, activation=\"relu\", input_shape=(20,1)))\n",
    "model.add(Flatten())\n",
    "model.add(Dense(64, activation=\"linear\"))\n",
    "model.add(Dense(2))"
   ]
  },
  {
   "cell_type": "code",
   "execution_count": 17,
   "metadata": {},
   "outputs": [
    {
     "data": {
      "application/javascript": [
       "\n",
       "        if (window._pyforest_update_imports_cell) { window._pyforest_update_imports_cell('from sklearn.model_selection import train_test_split\\nimport keras'); }\n",
       "    "
      ],
      "text/plain": [
       "<IPython.core.display.Javascript object>"
      ]
     },
     "metadata": {},
     "output_type": "display_data"
    }
   ],
   "source": [
    "\n",
    "\n",
    "opt = keras.optimizers.rmsprop(learning_rate=0.01)\n",
    "\n",
    "\n",
    "\n",
    "\n",
    "model.compile(optimizer=opt, loss='mse', metrics=['acc', 'mae'])\n",
    "\n",
    "\n",
    "\n",
    "\n",
    "    "
   ]
  },
  {
   "cell_type": "code",
   "execution_count": 18,
   "metadata": {},
   "outputs": [
    {
     "name": "stdout",
     "output_type": "stream",
     "text": [
      "Model: \"sequential_1\"\n",
      "_________________________________________________________________\n",
      "Layer (type)                 Output Shape              Param #   \n",
      "=================================================================\n",
      "conv1d_1 (Conv1D)            (None, 19, 32)            96        \n",
      "_________________________________________________________________\n",
      "flatten_1 (Flatten)          (None, 608)               0         \n",
      "_________________________________________________________________\n",
      "dense_1 (Dense)              (None, 64)                38976     \n",
      "_________________________________________________________________\n",
      "dense_2 (Dense)              (None, 2)                 130       \n",
      "=================================================================\n",
      "Total params: 39,202\n",
      "Trainable params: 39,202\n",
      "Non-trainable params: 0\n",
      "_________________________________________________________________\n"
     ]
    }
   ],
   "source": [
    "model.summary()"
   ]
  },
  {
   "cell_type": "markdown",
   "metadata": {},
   "source": [
    "# Setting Callback Functions"
   ]
  },
  {
   "cell_type": "code",
   "execution_count": 19,
   "metadata": {},
   "outputs": [],
   "source": [
    "earlystop = EarlyStopping(patience=10)"
   ]
  },
  {
   "cell_type": "code",
   "execution_count": 20,
   "metadata": {},
   "outputs": [],
   "source": [
    "learning_rate_reduction = ReduceLROnPlateau(monitor='val_acc', \n",
    "                                            patience=2, \n",
    "                                            verbose=1, \n",
    "                                            factor=0.5, \n",
    "                                            min_lr=0.00001)"
   ]
  },
  {
   "cell_type": "code",
   "execution_count": 21,
   "metadata": {},
   "outputs": [],
   "source": [
    "filepath = \"saved-model-{val_acc:.2f}.hdf5\"\n",
    "checkpoint = ModelCheckpoint(filepath, monitor='val_acc', verbose=1, save_best_only=False, mode='max')"
   ]
  },
  {
   "cell_type": "code",
   "execution_count": 22,
   "metadata": {},
   "outputs": [],
   "source": [
    "callbacks = [earlystop,learning_rate_reduction,checkpoint]"
   ]
  },
  {
   "cell_type": "code",
   "execution_count": 23,
   "metadata": {},
   "outputs": [
    {
     "name": "stdout",
     "output_type": "stream",
     "text": [
      "Train on 59499 samples, validate on 25501 samples\n",
      "Epoch 1/3\n",
      " - 3s - loss: 5226.9097 - acc: 0.9384 - mae: 23.8598 - val_loss: 3322.2007 - val_acc: 0.9415 - val_mae: 29.9300\n",
      "\n",
      "Epoch 00001: saving model to saved-model-0.94.hdf5\n",
      "Epoch 2/3\n",
      " - 3s - loss: 1758.7030 - acc: 0.9476 - mae: 18.7729 - val_loss: 1720.7656 - val_acc: 0.9458 - val_mae: 17.8637\n",
      "\n",
      "Epoch 00002: saving model to saved-model-0.95.hdf5\n",
      "Epoch 3/3\n",
      " - 3s - loss: 1726.2824 - acc: 0.9474 - mae: 18.5641 - val_loss: 2554.7392 - val_acc: 0.9400 - val_mae: 23.1261\n",
      "\n",
      "Epoch 00003: saving model to saved-model-0.94.hdf5\n"
     ]
    }
   ],
   "source": [
    "history = model.fit(xtrain,ytrain, epochs=100, verbose=2,callbacks=callbacks,validation_split=0.3)"
   ]
  },
  {
   "cell_type": "code",
   "execution_count": 24,
   "metadata": {},
   "outputs": [],
   "source": [
    "Accuracy = history.history['acc']\n",
    "Val_Accuracy = history.history['val_acc']\n",
    "\n"
   ]
  },
  {
   "cell_type": "code",
   "execution_count": 25,
   "metadata": {},
   "outputs": [
    {
     "name": "stdout",
     "output_type": "stream",
     "text": [
      "Accuracy 0.94736046\n",
      "Val_Accuracy  0.939963161945343\n"
     ]
    }
   ],
   "source": [
    "Accuracy =  Accuracy.pop()\n",
    "Val_Accuracy = Val_Accuracy.pop()\n",
    "print(\"Accuracy\",Accuracy)\n",
    "print(\"Val_Accuracy \",Val_Accuracy) "
   ]
  },
  {
   "cell_type": "code",
   "execution_count": 28,
   "metadata": {},
   "outputs": [
    {
     "name": "stdout",
     "output_type": "stream",
     "text": [
      "85000/85000 [==============================] - 2s 18us/step\n",
      "[2525.322230985754, 0.939764678478241, 22.8852596282959]\n",
      "MSE: 2476.8295\n"
     ]
    }
   ],
   "source": [
    "ypred = model.predict(xtest)\n",
    "print(model.evaluate(xtrain, ytrain))\n",
    "print(\"MSE: %.4f\" % mean_squared_error(ytest, ypred))\n",
    "\n"
   ]
  },
  {
   "cell_type": "code",
   "execution_count": 29,
   "metadata": {},
   "outputs": [],
   "source": [
    "result_test = model.predict(test_data)"
   ]
  },
  {
   "cell_type": "code",
   "execution_count": 30,
   "metadata": {},
   "outputs": [],
   "source": [
    "result_test_dataframe = pd.DataFrame(result_test, columns=['slope', 'intercept'])"
   ]
  },
  {
   "cell_type": "code",
   "execution_count": 31,
   "metadata": {},
   "outputs": [],
   "source": [
    "result_test_dataframe.index.name = 'id'"
   ]
  },
  {
   "cell_type": "code",
   "execution_count": 32,
   "metadata": {},
   "outputs": [],
   "source": [
    "result_test_dataframe.to_csv(\"result.csv\")"
   ]
  },
  {
   "cell_type": "code",
   "execution_count": null,
   "metadata": {},
   "outputs": [],
   "source": []
  }
 ],
 "metadata": {
  "kernelspec": {
   "display_name": "Python 3",
   "language": "python",
   "name": "python3"
  },
  "language_info": {
   "codemirror_mode": {
    "name": "ipython",
    "version": 3
   },
   "file_extension": ".py",
   "mimetype": "text/x-python",
   "name": "python",
   "nbconvert_exporter": "python",
   "pygments_lexer": "ipython3",
   "version": "3.7.5"
  }
 },
 "nbformat": 4,
 "nbformat_minor": 2
}
